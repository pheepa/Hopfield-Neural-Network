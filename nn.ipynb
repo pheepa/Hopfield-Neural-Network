{
 "cells": [
  {
   "cell_type": "markdown",
   "metadata": {},
   "source": [
    "# Hopfield Network"
   ]
  },
  {
   "cell_type": "markdown",
   "metadata": {},
   "source": [
    "## Import dependencies"
   ]
  },
  {
   "cell_type": "code",
   "execution_count": 70,
   "metadata": {},
   "outputs": [],
   "source": [
    "import numpy as np\n",
    "from pathlib import Path\n",
    "from PIL import Image\n",
    "import matplotlib.pyplot as plt\n",
    "from IPython.display import display\n",
    "from sklearn.metrics.pairwise import cosine_similarity\n",
    "%matplotlib inline\n",
    "\n",
    "from random import randint"
   ]
  },
  {
   "cell_type": "markdown",
   "metadata": {},
   "source": [
    "# Data"
   ]
  },
  {
   "cell_type": "markdown",
   "metadata": {},
   "source": [
    "## Load data"
   ]
  },
  {
   "cell_type": "code",
   "execution_count": 2,
   "metadata": {},
   "outputs": [],
   "source": [
    "TRAIN_DIR = Path('/home/philipp/Projects/Hopfield-Neural-Network/mnist_png/train/')\n",
    "TEST_DIR = Path('/home/philipp/Projects/Hopfield-Neural-Network/mnist_png/test/')"
   ]
  },
  {
   "cell_type": "markdown",
   "metadata": {},
   "source": [
    "Train files:"
   ]
  },
  {
   "cell_type": "code",
   "execution_count": 3,
   "metadata": {},
   "outputs": [],
   "source": [
    "train_files = sorted(list(TRAIN_DIR.rglob('*.png')))\n",
    "train_labels = [int(path.name[:1]) for path in train_files]\n",
    "train_images = []\n",
    "for file in train_files:\n",
    "    train_images.append(Image.open(file))"
   ]
  },
  {
   "cell_type": "markdown",
   "metadata": {},
   "source": [
    "Test files:"
   ]
  },
  {
   "cell_type": "code",
   "execution_count": 6,
   "metadata": {},
   "outputs": [],
   "source": [
    "test_files = []\n",
    "test_labels = []\n",
    "test_images = []\n",
    "for folder in sorted(TEST_DIR.iterdir()):\n",
    "    for file in sorted(list(folder.rglob('*.png')))[:1]:\n",
    "        test_images.append(Image.open(file))\n",
    "        test_labels.append(int(file.parent.name))"
   ]
  },
  {
   "cell_type": "markdown",
   "metadata": {},
   "source": [
    "## Pre-Process Data"
   ]
  },
  {
   "cell_type": "code",
   "execution_count": 7,
   "metadata": {},
   "outputs": [],
   "source": [
    "def prepare_data(images, labels):\n",
    "    data = {}\n",
    "    for im, lab in zip(images, labels):\n",
    "        image = np.array(im).flatten()\n",
    "        image = [1 if pixel > 0 else -1 for pixel in image]\n",
    "        data[lab] = np.array(image)\n",
    "        data[lab].resize((1,28*28))\n",
    "    return data"
   ]
  },
  {
   "cell_type": "code",
   "execution_count": 8,
   "metadata": {},
   "outputs": [],
   "source": [
    "train_data = prepare_data(train_images, train_labels)"
   ]
  },
  {
   "cell_type": "code",
   "execution_count": 9,
   "metadata": {},
   "outputs": [],
   "source": [
    "test_data = prepare_data(test_images, test_labels)"
   ]
  },
  {
   "cell_type": "markdown",
   "metadata": {},
   "source": [
    "##### Data Parameters"
   ]
  },
  {
   "cell_type": "code",
   "execution_count": 10,
   "metadata": {},
   "outputs": [],
   "source": [
    "n_train = len(train_data)"
   ]
  },
  {
   "cell_type": "code",
   "execution_count": 11,
   "metadata": {},
   "outputs": [],
   "source": [
    "# Size of image(width)\n",
    "n_side = 28\n",
    "\n",
    "# Number of neurons\n",
    "n_neurons = n_side * n_side"
   ]
  },
  {
   "cell_type": "markdown",
   "metadata": {},
   "source": [
    "# Neural Network"
   ]
  },
  {
   "cell_type": "markdown",
   "metadata": {},
   "source": [
    "## Train"
   ]
  },
  {
   "cell_type": "code",
   "execution_count": 51,
   "metadata": {},
   "outputs": [],
   "source": [
    "def train_binary(neu, train_data):\n",
    "    w = np.zeros([neu, neu])\n",
    "    for x in range(len(train_data)):\n",
    "        for i in range(neu):\n",
    "            for j in range(neu):\n",
    "                w[i][j] += (2*train_data[x][0][i]-1)*(train_data[x][0][j]-1)\n",
    "                if i == j:\n",
    "                    w[i, j] = 0\n",
    "    return w"
   ]
  },
  {
   "cell_type": "code",
   "execution_count": 50,
   "metadata": {},
   "outputs": [],
   "source": [
    "def train_bipolar(neu, train_data):\n",
    "    w = np.zeros([neu, neu])\n",
    "    for x in range(len(train_data)):\n",
    "        for i in range(neu):\n",
    "            for j in range(neu):\n",
    "                w[i][j] += train_data[x][0][i]*train_data[x][0][j]\n",
    "                if i == j:\n",
    "                    w[i, j] = 0\n",
    "    return w"
   ]
  },
  {
   "cell_type": "code",
   "execution_count": 52,
   "metadata": {},
   "outputs": [],
   "source": [
    "theta_binary = np.zeros((1,n_neurons))"
   ]
  },
  {
   "cell_type": "code",
   "execution_count": 66,
   "metadata": {},
   "outputs": [],
   "source": [
    "def theta_bipolar(W, neu):\n",
    "    t = np.zeros((1,neu))\n",
    "    theta = 0.\n",
    "    for row in W:\n",
    "        theta += row.sum()\n",
    "    theta /= 2\n",
    "    t += theta\n",
    "    return t"
   ]
  },
  {
   "cell_type": "markdown",
   "metadata": {},
   "source": [
    "## Test"
   ]
  },
  {
   "cell_type": "code",
   "execution_count": 18,
   "metadata": {},
   "outputs": [],
   "source": [
    "def test(weights, train_data, test_data, theta=0):\n",
    "    accuracy = 0.0\n",
    "    for label in test_data:\n",
    "        image = test_data[label]\n",
    "        predict_data = get_output_neuron(weights, image)\n",
    "        if np.array_equal(train_data[label], predict_data):\n",
    "            accuracy += 1.0\n",
    "    accuracy /= len(test_data)\n",
    "    return accuracy"
   ]
  },
  {
   "cell_type": "markdown",
   "metadata": {},
   "source": [
    "## Main"
   ]
  },
  {
   "cell_type": "code",
   "execution_count": 54,
   "metadata": {},
   "outputs": [],
   "source": [
    "W_binary = train_binary(n_neurons, train_data)"
   ]
  },
  {
   "cell_type": "code",
   "execution_count": 56,
   "metadata": {},
   "outputs": [],
   "source": [
    "W_bipolar = train_bipolar(n_neurons, train_data)"
   ]
  },
  {
   "cell_type": "code",
   "execution_count": 58,
   "metadata": {},
   "outputs": [
    {
     "data": {
      "text/plain": [
       "array([[ 0., 10., 10., ..., 10., 10., 10.],\n",
       "       [10.,  0., 10., ..., 10., 10., 10.],\n",
       "       [10., 10.,  0., ..., 10., 10., 10.],\n",
       "       ...,\n",
       "       [10., 10., 10., ...,  0., 10., 10.],\n",
       "       [10., 10., 10., ..., 10.,  0., 10.],\n",
       "       [10., 10., 10., ..., 10., 10.,  0.]])"
      ]
     },
     "execution_count": 58,
     "metadata": {},
     "output_type": "execute_result"
    }
   ],
   "source": [
    "W_bipolar"
   ]
  },
  {
   "cell_type": "code",
   "execution_count": 67,
   "metadata": {},
   "outputs": [],
   "source": [
    "theta_bipolar = theta_bipolar(W, n_neurons)"
   ]
  },
  {
   "cell_type": "code",
   "execution_count": 74,
   "metadata": {},
   "outputs": [
    {
     "data": {
      "text/plain": [
       "<matplotlib.image.AxesImage at 0x7f73089f3490>"
      ]
     },
     "execution_count": 74,
     "metadata": {},
     "output_type": "execute_result"
    },
    {
     "data": {
      "image/png": "[encoded data removed]",
      "text/plain": [
       "<Figure size 432x288 with 1 Axes>"
      ]
     },
     "metadata": {
      "needs_background": "light"
     },
     "output_type": "display_data"
    }
   ],
   "source": [
    "b = test_data[2][0] @ W_binary - theta_binary\n",
    "\n",
    "c = (b > 0)\n",
    "c = np.array(c, dtype=int)\n",
    "plt.imshow(c.reshape((28,28)))"
   ]
  },
  {
   "cell_type": "markdown",
   "metadata": {},
   "source": [
    "#### Test"
   ]
  },
  {
   "cell_type": "code",
   "execution_count": 58,
   "metadata": {},
   "outputs": [],
   "source": [
    "accuracy = test(W, train_data, test_data)"
   ]
  },
  {
   "cell_type": "markdown",
   "metadata": {},
   "source": [
    "Print accuracy"
   ]
  },
  {
   "cell_type": "code",
   "execution_count": 59,
   "metadata": {},
   "outputs": [
    {
     "name": "stdout",
     "output_type": "stream",
     "text": [
      "Accuracy of the network is 0.000000\n"
     ]
    }
   ],
   "source": [
    "print(\"Accuracy of the network is %f\" % (accuracy * 100))"
   ]
  },
  {
   "cell_type": "code",
   "execution_count": 80,
   "metadata": {},
   "outputs": [
    {
     "data": {
      "image/png": "[encoded data removed]",
      "text/plain": [
       "<PIL.Image.Image image mode=L size=28x28 at 0x7FEE2CEAA2D0>"
      ]
     },
     "metadata": {},
     "output_type": "display_data"
    }
   ],
   "source": [
    "pred = get_output_neuron(W, train_data[0])\n",
    "show_image(pred)"
   ]
  },
  {
   "cell_type": "code",
   "execution_count": null,
   "metadata": {},
   "outputs": [],
   "source": []
  }
 ],
 "metadata": {
  "kernelspec": {
   "display_name": "Python 3",
   "language": "python",
   "name": "python3"
  },
  "language_info": {
   "codemirror_mode": {
    "name": "ipython",
    "version": 3
   },
   "file_extension": ".py",
   "mimetype": "text/x-python",
   "name": "python",
   "nbconvert_exporter": "python",
   "pygments_lexer": "ipython3",
   "version": "3.7.4"
  }
 },
 "nbformat": 4,
 "nbformat_minor": 4
}
