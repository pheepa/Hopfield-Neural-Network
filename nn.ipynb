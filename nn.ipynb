{
 "cells": [
  {
   "cell_type": "markdown",
   "metadata": {},
   "source": [
    "# Hopfield Network"
   ]
  },
  {
   "cell_type": "markdown",
   "metadata": {},
   "source": [
    "Import dependencies"
   ]
  },
  {
   "cell_type": "code",
   "execution_count": 1,
   "metadata": {},
   "outputs": [
    {
     "name": "stderr",
     "output_type": "stream",
     "text": [
      "/home/philipp/anaconda3/lib/python3.7/site-packages/sklearn/utils/__init__.py:4: DeprecationWarning: Using or importing the ABCs from 'collections' instead of from 'collections.abc' is deprecated, and in 3.8 it will stop working\n",
      "  from collections import Sequence\n"
     ]
    }
   ],
   "source": [
    "import numpy as np\n",
    "from pathlib import Path\n",
    "from PIL import Image\n",
    "import matplotlib.pyplot as plt\n",
    "from IPython.display import display\n",
    "from sklearn.metrics.pairwise import cosine_similarity\n",
    "%matplotlib inline"
   ]
  },
  {
   "cell_type": "code",
   "execution_count": 2,
   "metadata": {},
   "outputs": [],
   "source": [
    "TRAIN_DIR = Path('/home/philipp/Projects/Hopfield-Neural-Network/mnist_png/train/')\n",
    "TEST_DIR = Path('/home/philipp/Projects/Hopfield-Neural-Network/mnist_png/test/')"
   ]
  },
  {
   "cell_type": "markdown",
   "metadata": {},
   "source": [
    "Train files:"
   ]
  },
  {
   "cell_type": "code",
   "execution_count": 3,
   "metadata": {},
   "outputs": [],
   "source": [
    "train_files = sorted(list(TRAIN_DIR.rglob('*.png')))\n",
    "train_labels = [int(path.name[:1]) for path in train_files]\n",
    "train_images = []\n",
    "for file in train_files:\n",
    "    train_images.append(Image.open(file))"
   ]
  },
  {
   "cell_type": "markdown",
   "metadata": {},
   "source": [
    "Test files:"
   ]
  },
  {
   "cell_type": "code",
   "execution_count": 64,
   "metadata": {},
   "outputs": [],
   "source": [
    "test_files = []\n",
    "test_labels = []\n",
    "test_images = []\n",
    "for folder in sorted(TEST_DIR.iterdir()):\n",
    "    for file in sorted(list(folder.rglob('*.png')))[:1]:\n",
    "        test_images.append(Image.open(file))\n",
    "        test_labels.append(int(file.parent.name))"
   ]
  },
  {
   "cell_type": "markdown",
   "metadata": {},
   "source": [
    "### Util functions"
   ]
  },
  {
   "cell_type": "markdown",
   "metadata": {},
   "source": [
    "### Pre-Process Data"
   ]
  },
  {
   "cell_type": "code",
   "execution_count": 5,
   "metadata": {},
   "outputs": [],
   "source": [
    "def prepare_data(images, labels):\n",
    "    data = {}\n",
    "    for im, lab in zip(images, labels):\n",
    "        image = np.array(im).flatten()\n",
    "        image = [1 if pixel > 0 else -1 for pixel in image]\n",
    "        data[lab] = np.array(image)\n",
    "        data[lab].resize((1,28*28))\n",
    "    return data"
   ]
  },
  {
   "cell_type": "code",
   "execution_count": 6,
   "metadata": {},
   "outputs": [],
   "source": [
    "train_data = prepare_data(train_images, train_labels)"
   ]
  },
  {
   "cell_type": "code",
   "execution_count": 7,
   "metadata": {},
   "outputs": [],
   "source": [
    "test_data = prepare_data(test_images, test_labels)"
   ]
  },
  {
   "cell_type": "markdown",
   "metadata": {},
   "source": [
    "##### Data Parameters"
   ]
  },
  {
   "cell_type": "code",
   "execution_count": 8,
   "metadata": {},
   "outputs": [],
   "source": [
    "n_train = len(train_data)"
   ]
  },
  {
   "cell_type": "code",
   "execution_count": 9,
   "metadata": {},
   "outputs": [],
   "source": [
    "# Size of image(width)\n",
    "n_side = 28\n",
    "\n",
    "# Number of neurons\n",
    "n_neurons = n_side * n_side"
   ]
  },
  {
   "cell_type": "markdown",
   "metadata": {},
   "source": [
    "### Neural Network"
   ]
  },
  {
   "cell_type": "markdown",
   "metadata": {},
   "source": [
    "Function to train the network using Hebbian learning rule"
   ]
  },
  {
   "cell_type": "code",
   "execution_count": 11,
   "metadata": {},
   "outputs": [],
   "source": [
    "def train(neu, train_data):\n",
    "    w = np.zeros([neu, neu])\n",
    "    for index in train_data:\n",
    "        w += 4 * np.outer(train_data[index], train_data[index])\n",
    "        im_i = np.ones((n_side*n_side, 1)) @ train_data[index]\n",
    "        im_j = train_data[index].T @ np.ones((1,28*28)) \n",
    "        w -= 2 * im_i\n",
    "        w -= 2 * im_j   \n",
    "        w -= 1\n",
    "    for diag in range(neu):\n",
    "        w[diag][diag] = 0\n",
    "    return w"
   ]
  },
  {
   "cell_type": "code",
   "execution_count": 48,
   "metadata": {},
   "outputs": [],
   "source": [
    "def train(neu, train_data):\n",
    "    w = np.zeros([neu, neu])\n",
    "    for x in range(len(train_data)):\n",
    "        for i in range(neu):\n",
    "            for j in range(neu):\n",
    "                w[i][j] += train_data[x][0][i] * train_data[x][0][j]\n",
    "                if i == j:\n",
    "                    w[i, j] = 0\n",
    "    return w"
   ]
  },
  {
   "cell_type": "markdown",
   "metadata": {},
   "source": [
    "Function to test the network"
   ]
  },
  {
   "cell_type": "code",
   "execution_count": 12,
   "metadata": {},
   "outputs": [],
   "source": [
    "def test(weights, train_data, test_data, theta=0):\n",
    "    accuracy = 0.0\n",
    "    for label in test_data:\n",
    "        image = test_data[label]\n",
    "        predict_data = retrieve_pattern(weights, image, theta)\n",
    "        if np.array_equal(train_data[label], predict_data):\n",
    "            accuracy += 1.0\n",
    "    accuracy /= len(test_data)\n",
    "    return accuracy"
   ]
  },
  {
   "cell_type": "code",
   "execution_count": 45,
   "metadata": {},
   "outputs": [],
   "source": [
    "def retrieve_pattern(weights, data, theta=0, steps=100):\n",
    "\n",
    "    res = data\n",
    "    for _ in range(steps):\n",
    "        res = res @ weights\n",
    "        for i in range(len(res[0])):\n",
    "            if res[0][i] > theta:\n",
    "                res[0][i] = 1\n",
    "            else:\n",
    "                res[0][i] = -1\n",
    "    return res"
   ]
  },
  {
   "cell_type": "code",
   "execution_count": 24,
   "metadata": {},
   "outputs": [],
   "source": [
    "def show_image(image):\n",
    "    image_2d = image.copy()\n",
    "    image_2d.resize((28,28))\n",
    "    image_2d = Image.fromarray(np.uint8(255*image_2d))\n",
    "    display(image_2d)"
   ]
  },
  {
   "cell_type": "code",
   "execution_count": 57,
   "metadata": {},
   "outputs": [],
   "source": [
    "def get_output_neuron(w, u):\n",
    "    lb = 10000\n",
    "    neu = 28*28\n",
    "    for l in range(lb):\n",
    "        neuron = randint(0,neu-1)\n",
    "        c = 0\n",
    "        for i in range(0, neu-1):\n",
    "            c += u[0][i] * w[i][neuron]\n",
    "        if c > 0:\n",
    "            u[0][neuron] = 1\n",
    "        elif c < 0:\n",
    "            u[0][neuron] = -1\n",
    "        else:\n",
    "            u[0][neuron] = 0\n",
    "    return u[0]"
   ]
  },
  {
   "cell_type": "code",
   "execution_count": 23,
   "metadata": {},
   "outputs": [],
   "source": [
    "def test(weights, train_data, test_data, theta=0):\n",
    "    accuracy = 0.0\n",
    "    for label in test_data:\n",
    "        image = test_data[label]\n",
    "        predict_data = get_output_neuron(weights, image)\n",
    "        if np.array_equal(train_data[label], predict_data):\n",
    "            accuracy += 1.0\n",
    "    accuracy /= len(test_data)\n",
    "    return accuracy"
   ]
  },
  {
   "cell_type": "markdown",
   "metadata": {},
   "source": [
    "#### Train"
   ]
  },
  {
   "cell_type": "code",
   "execution_count": 50,
   "metadata": {},
   "outputs": [],
   "source": [
    "from random import randint"
   ]
  },
  {
   "cell_type": "code",
   "execution_count": 78,
   "metadata": {},
   "outputs": [],
   "source": [
    "W = train(n_neurons, train_data)"
   ]
  },
  {
   "cell_type": "markdown",
   "metadata": {},
   "source": [
    "#### Test"
   ]
  },
  {
   "cell_type": "code",
   "execution_count": 58,
   "metadata": {},
   "outputs": [],
   "source": [
    "accuracy = test(W, train_data, test_data)"
   ]
  },
  {
   "cell_type": "markdown",
   "metadata": {},
   "source": [
    "Print accuracy"
   ]
  },
  {
   "cell_type": "code",
   "execution_count": 59,
   "metadata": {},
   "outputs": [
    {
     "name": "stdout",
     "output_type": "stream",
     "text": [
      "Accuracy of the network is 0.000000\n"
     ]
    }
   ],
   "source": [
    "print(\"Accuracy of the network is %f\" % (accuracy * 100))"
   ]
  },
  {
   "cell_type": "code",
   "execution_count": 80,
   "metadata": {},
   "outputs": [
    {
     "data": {
      "image/png": "[encoded data removed]",
      "text/plain": [
       "<PIL.Image.Image image mode=L size=28x28 at 0x7FEE2CEAA2D0>"
      ]
     },
     "metadata": {},
     "output_type": "display_data"
    }
   ],
   "source": [
    "pred = get_output_neuron(W, train_data[0])\n",
    "show_image(pred)"
   ]
  },
  {
   "cell_type": "code",
   "execution_count": null,
   "metadata": {},
   "outputs": [],
   "source": []
  }
 ],
 "metadata": {
  "kernelspec": {
   "display_name": "Python 3",
   "language": "python",
   "name": "python3"
  },
  "language_info": {
   "codemirror_mode": {
    "name": "ipython",
    "version": 3
   },
   "file_extension": ".py",
   "mimetype": "text/x-python",
   "name": "python",
   "nbconvert_exporter": "python",
   "pygments_lexer": "ipython3",
   "version": "3.7.4"
  }
 },
 "nbformat": 4,
 "nbformat_minor": 4
}
